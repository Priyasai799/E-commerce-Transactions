{
 "cells": [
  {
   "cell_type": "code",
   "execution_count": 1,
   "id": "b4c8679b",
   "metadata": {},
   "outputs": [],
   "source": [
    "import pandas as pd\n",
    "from sklearn.metrics.pairwise import cosine_similarity\n",
    "from sklearn.preprocessing import StandardScaler"
   ]
  },
  {
   "cell_type": "code",
   "execution_count": 2,
   "id": "4540a91d",
   "metadata": {},
   "outputs": [],
   "source": [
    "#load dataset\n",
    "customers_df = pd.read_csv(r\"C:\\Users\\ASUS\\OneDrive\\Desktop\\data science assignment\\Customers.csv\")\n",
    "transactions_df = pd.read_csv(r\"C:\\Users\\ASUS\\OneDrive\\Desktop\\data science assignment\\Products.csv\")\n",
    "products_df = pd.read_csv(r\"C:\\Users\\ASUS\\OneDrive\\Desktop\\data science assignment\\Transactions.csv\")"
   ]
  },
  {
   "cell_type": "code",
   "execution_count": 3,
   "id": "828e1453",
   "metadata": {},
   "outputs": [],
   "source": [
    "# Data Preparation\n",
    "# Merge transactions with product and customer data\n",
    "transactions_df = transactions_df.merge(products_df, on='ProductID', how='left')\n",
    "transactions_df = transactions_df.merge(customers_df, on='CustomerID', how='left')"
   ]
  },
  {
   "cell_type": "code",
   "execution_count": 7,
   "id": "bb616308",
   "metadata": {},
   "outputs": [],
   "source": [
    "#Feature engineering for customer profiles\n",
    "customer_features = transactions_df.groupby('CustomerID').agg(\n",
    "    total_transactions=('TransactionID', 'count'),\n",
    "    unique_products=('ProductID', 'nunique')\n",
    ").reset_index()"
   ]
  },
  {
   "cell_type": "code",
   "execution_count": 8,
   "id": "b30588cc",
   "metadata": {},
   "outputs": [],
   "source": [
    "# Merge with customer demographic features\n",
    "customer_profiles = customers_df.merge(customer_features, on='CustomerID', how='left')\n",
    "customer_profiles = customer_profiles.fillna(0)  # Fill missing values with 0"
   ]
  },
  {
   "cell_type": "code",
   "execution_count": 9,
   "id": "1563bd25",
   "metadata": {},
   "outputs": [],
   "source": [
    "# Standardize features for similarity calculation\n",
    "scaler = StandardScaler()\n",
    "feature_columns = ['total_transactions', 'unique_products']\n",
    "customer_profiles[feature_columns] = scaler.fit_transform(customer_profiles[feature_columns])\n"
   ]
  },
  {
   "cell_type": "code",
   "execution_count": 10,
   "id": "12b1f05a",
   "metadata": {},
   "outputs": [],
   "source": [
    "# Compute similarity matrix\n",
    "similarity_matrix = cosine_similarity(customer_profiles[feature_columns])\n",
    "similarity_df = pd.DataFrame(similarity_matrix, index=customer_profiles['CustomerID'], columns=customer_profiles['CustomerID'])\n"
   ]
  },
  {
   "cell_type": "code",
   "execution_count": 11,
   "id": "54ac76b8",
   "metadata": {},
   "outputs": [],
   "source": [
    "# Generate Lookalike Recommendations\n",
    "lookalike_results = {}\n",
    "for customer_id in customer_profiles['CustomerID'][:20]:  # For customers C0001-C0020\n",
    "    similar_customers = similarity_df[customer_id].sort_values(ascending=False).iloc[1:4]  # Top 3 excluding self\n",
    "    lookalike_results[customer_id] = list(zip(similar_customers.index, similar_customers.values))\n"
   ]
  },
  {
   "cell_type": "code",
   "execution_count": 12,
   "id": "4737291a",
   "metadata": {},
   "outputs": [
    {
     "name": "stdout",
     "output_type": "stream",
     "text": [
      "Lookalike recommendations saved to Lookalike.csv\n"
     ]
    }
   ],
   "source": [
    "# Create Lookalike CSV\n",
    "lookalike_output = []\n",
    "for cust_id, recommendations in lookalike_results.items():\n",
    "    for rec_id, score in recommendations:\n",
    "        lookalike_output.append({'cust_id': cust_id, 'rec_id': rec_id, 'score': score})\n",
    "\n",
    "lookalike_df = pd.DataFrame(lookalike_output)\n",
    "lookalike_csv_path = 'Lookalike.csv'\n",
    "lookalike_df.to_csv(lookalike_csv_path, index=False)\n",
    "print(f\"Lookalike recommendations saved to {lookalike_csv_path}\")\n"
   ]
  },
  {
   "cell_type": "code",
   "execution_count": 13,
   "id": "2ef8275c",
   "metadata": {},
   "outputs": [
    {
     "name": "stdout",
     "output_type": "stream",
     "text": [
      "\n",
      "Model Explanation:\n",
      "1. Customer profiles were created using transaction and product data to capture behavioral features.\n",
      "2. Features were standardized to ensure equal weight in similarity calculations.\n",
      "3. Cosine similarity was used to compute pairwise customer similarities.\n",
      "4. For each target customer, the top 3 most similar customers were identified based on similarity scores.\n"
     ]
    }
   ],
   "source": [
    "# Explanation of model development and logic\n",
    "print(\"\\nModel Explanation:\")\n",
    "print(\"1. Customer profiles were created using transaction and product data to capture behavioral features.\")\n",
    "print(\"2. Features were standardized to ensure equal weight in similarity calculations.\")\n",
    "print(\"3. Cosine similarity was used to compute pairwise customer similarities.\")\n",
    "print(\"4. For each target customer, the top 3 most similar customers were identified based on similarity scores.\")\n"
   ]
  },
  {
   "cell_type": "code",
   "execution_count": null,
   "id": "28c0684d",
   "metadata": {},
   "outputs": [],
   "source": []
  }
 ],
 "metadata": {
  "kernelspec": {
   "display_name": "Python 3 (ipykernel)",
   "language": "python",
   "name": "python3"
  },
  "language_info": {
   "codemirror_mode": {
    "name": "ipython",
    "version": 3
   },
   "file_extension": ".py",
   "mimetype": "text/x-python",
   "name": "python",
   "nbconvert_exporter": "python",
   "pygments_lexer": "ipython3",
   "version": "3.11.5"
  }
 },
 "nbformat": 4,
 "nbformat_minor": 5
}
